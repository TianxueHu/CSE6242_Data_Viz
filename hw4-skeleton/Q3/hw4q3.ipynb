{
  "nbformat": 4,
  "nbformat_minor": 0,
  "metadata": {
    "colab": {
      "name": "hw4q3.ipynb",
      "provenance": [],
      "collapsed_sections": [],
      "toc_visible": true
    },
    "kernelspec": {
      "display_name": "Python 3",
      "language": "python",
      "name": "python3"
    },
    "language_info": {
      "codemirror_mode": {
        "name": "ipython",
        "version": 3
      },
      "file_extension": ".py",
      "mimetype": "text/x-python",
      "name": "python",
      "nbconvert_exporter": "python",
      "pygments_lexer": "ipython3",
      "version": "3.7.3"
    }
  },
  "cells": [
    {
      "cell_type": "markdown",
      "metadata": {
        "colab_type": "text",
        "id": "DB0vv4pBcWu9"
      },
      "source": [
        "# Q3 Using Scikit-Learn"
      ]
    },
    {
      "cell_type": "code",
      "metadata": {
        "colab_type": "code",
        "id": "GalZFbfhcWvA",
        "colab": {}
      },
      "source": [
        "import numpy as np\n",
        "import pandas as pd\n",
        "import time\n",
        "import gc\n",
        "from sklearn.model_selection import cross_val_score, GridSearchCV, cross_validate, train_test_split\n",
        "from sklearn.metrics import accuracy_score, classification_report\n",
        "from sklearn.svm import SVC\n",
        "from sklearn.linear_model import LinearRegression\n",
        "from sklearn.neural_network import MLPClassifier\n",
        "from sklearn.ensemble import RandomForestClassifier\n",
        "from sklearn.preprocessing import StandardScaler, normalize\n",
        "from sklearn.decomposition import PCA\n",
        "from sklearn.impute import SimpleImputer"
      ],
      "execution_count": 0,
      "outputs": []
    },
    {
      "cell_type": "code",
      "metadata": {
        "colab_type": "code",
        "id": "r8CbpTPx9rKA",
        "outputId": "fb6fa929-a039-439f-c6ab-3fe3084f393f",
        "colab": {
          "base_uri": "https://localhost:8080/",
          "height": 34
        }
      },
      "source": [
        "# Change to your GA Tech ID\n",
        "ga_id = 'thu82'\n",
        "# Requires a print() statement do not modify below print statement\n",
        "print(ga_id)"
      ],
      "execution_count": 56,
      "outputs": [
        {
          "output_type": "stream",
          "text": [
            "thu82\n"
          ],
          "name": "stdout"
        }
      ]
    },
    {
      "cell_type": "markdown",
      "metadata": {
        "colab_type": "text",
        "id": "2Z1gV3UlcWvD"
      },
      "source": [
        "# Q3.1 Data Import and Cleansing Setup"
      ]
    },
    {
      "cell_type": "code",
      "metadata": {
        "colab_type": "code",
        "id": "9VS44b2kcWvE",
        "colab": {}
      },
      "source": [
        "# XXX\n",
        "# TODO: Read in all the data. Replace the 'xxx' with the path to the data set. We've started this for you. \n",
        "# XXX\n",
        "\n",
        "# -------------------------------\n",
        "# ADD CODE HERE\n",
        "data = pd.read_csv('./pulsar_stars.csv')\n",
        "#data.head()\n",
        "# -------------------------------\n",
        "\n",
        "# XXX\n",
        "# TODO: Separate out the x_data and y_data. We've started this for you.\n",
        "# XXX\n",
        "\n",
        "# -------------------------------\n",
        "# ADD CODE HERE\n",
        "x_data = data.loc[:,data.columns !='y']\n",
        "#x_data.head()\n",
        "y_data = data.loc[:,'y']\n",
        "# -------------------------------\n"
      ],
      "execution_count": 0,
      "outputs": []
    },
    {
      "cell_type": "code",
      "metadata": {
        "colab_type": "code",
        "id": "xuEypbCqcWvG",
        "colab": {}
      },
      "source": [
        "# XXX\n",
        "# TODO: Split 70% of the data into training and 30% into test sets. Call them x_train, x_test, y_train and y_test.\n",
        "# Use the train_test_split method in sklearn with the parameter 'shuffle' set to true and the 'random_state' \n",
        "# set to 614.\n",
        "# \n",
        "\n",
        "# -------------------------------\n",
        "# ADD CODE HERE\n",
        "x_train, x_test, y_train, y_test = train_test_split(x_data, y_data, test_size=0.30, random_state=614, shuffle=True)\n",
        "# -------------------------------"
      ],
      "execution_count": 0,
      "outputs": []
    },
    {
      "cell_type": "markdown",
      "metadata": {
        "colab_type": "text",
        "id": "q09V5Ux5cWvI"
      },
      "source": [
        "# Q3.2 Linear Regression "
      ]
    },
    {
      "cell_type": "code",
      "metadata": {
        "colab_type": "code",
        "id": "tnHXBF1UcWvJ",
        "outputId": "0925f487-e2a5-46db-8db4-44f8e62490a2",
        "colab": {
          "base_uri": "https://localhost:8080/",
          "height": 34
        }
      },
      "source": [
        "# XXX\n",
        "# TODO: Create a LinearRegression classifier and train it.\n",
        "# XXX\n",
        "\n",
        "# -------------------------------\n",
        "# ADD CODE HERE\n",
        "lr = LinearRegression()\n",
        "lr.fit(x_train, y_train)\n",
        "# -------------------------------"
      ],
      "execution_count": 59,
      "outputs": [
        {
          "output_type": "execute_result",
          "data": {
            "text/plain": [
              "LinearRegression(copy_X=True, fit_intercept=True, n_jobs=None, normalize=False)"
            ]
          },
          "metadata": {
            "tags": []
          },
          "execution_count": 59
        }
      ]
    },
    {
      "cell_type": "code",
      "metadata": {
        "colab_type": "code",
        "id": "McSbfk9WcWvL",
        "outputId": "dae18a1c-d133-4008-e561-6cff674aa93a",
        "colab": {
          "base_uri": "https://localhost:8080/",
          "height": 34
        }
      },
      "source": [
        "# XXX\n",
        "# TODO: Test its accuracy (on the training set) using the accuracy_score method.\n",
        "# Note: Round the output values greater than or equal to 0.5 to 1 and those less than 0.5 to 0. You can use any method that satisfies the requriements.\n",
        "# XXX\n",
        "\n",
        "# -------------------------------\n",
        "# ADD CODE HERE\n",
        "# Requires a print() statement\n",
        "y_train_pred = lr.predict(x_train)\n",
        "rounded = np.where(y_train_pred<0.5, 0, 1)\n",
        "train_acc = accuracy_score(y_train, rounded, normalize=True)*100\n",
        "print(\"The Accuracyis: %f\" % train_acc)\n",
        "# -------------------------------"
      ],
      "execution_count": 60,
      "outputs": [
        {
          "output_type": "stream",
          "text": [
            "The Accuracyis: 97.206258\n"
          ],
          "name": "stdout"
        }
      ]
    },
    {
      "cell_type": "code",
      "metadata": {
        "colab_type": "code",
        "id": "VgySbn7xcWvN",
        "outputId": "89c68752-25d6-449f-e65e-5cc8dacf0a72",
        "colab": {
          "base_uri": "https://localhost:8080/",
          "height": 34
        }
      },
      "source": [
        "# XXX\n",
        "# TODO: Test its accuracy (on the testing set) using the accuracy_score method.\n",
        "# Note: Round the output values greater than or equal to 0.5 to 1 and those less than 0.5 to 0. You can use any method that satisfies the requriements.\n",
        "# XXX\n",
        "\n",
        "# -------------------------------\n",
        "# ADD CODE HERE\n",
        "# Requires a print() statement\n",
        "y_test_pred = lr.predict(x_test)\n",
        "rounded = np.where(y_test_pred<0.5, 0, 1)\n",
        "test_acc = accuracy_score(y_test, rounded, normalize=True)*100\n",
        "print(\"The Accuracyis: %f\" % test_acc)\n",
        "\n",
        "# -------------------------------"
      ],
      "execution_count": 61,
      "outputs": [
        {
          "output_type": "stream",
          "text": [
            "The Accuracyis: 96.964618\n"
          ],
          "name": "stdout"
        }
      ]
    },
    {
      "cell_type": "markdown",
      "metadata": {
        "colab_type": "text",
        "id": "WbqnCyHAcWvP"
      },
      "source": [
        "# Q3.3 Random Forest Classifier"
      ]
    },
    {
      "cell_type": "code",
      "metadata": {
        "colab_type": "code",
        "id": "dTtIFJW7cWvQ",
        "outputId": "bb9a6217-ecf6-4cab-e7b9-e3a5d5a42ec5",
        "colab": {
          "base_uri": "https://localhost:8080/",
          "height": 153
        }
      },
      "source": [
        "# XXX\n",
        "# TODO: Create a RandomForestClassifier and train it.\n",
        "# Set 'random_state' to 614\n",
        "# XXX\n",
        "\n",
        "# -------------------------------\n",
        "# ADD CODE HERE\n",
        "rf =RandomForestClassifier(random_state=614)\n",
        "rf.fit(x_train, y_train)\n",
        "# -------------------------------"
      ],
      "execution_count": 62,
      "outputs": [
        {
          "output_type": "execute_result",
          "data": {
            "text/plain": [
              "RandomForestClassifier(bootstrap=True, ccp_alpha=0.0, class_weight=None,\n",
              "                       criterion='gini', max_depth=None, max_features='auto',\n",
              "                       max_leaf_nodes=None, max_samples=None,\n",
              "                       min_impurity_decrease=0.0, min_impurity_split=None,\n",
              "                       min_samples_leaf=1, min_samples_split=2,\n",
              "                       min_weight_fraction_leaf=0.0, n_estimators=100,\n",
              "                       n_jobs=None, oob_score=False, random_state=614,\n",
              "                       verbose=0, warm_start=False)"
            ]
          },
          "metadata": {
            "tags": []
          },
          "execution_count": 62
        }
      ]
    },
    {
      "cell_type": "code",
      "metadata": {
        "colab_type": "code",
        "id": "IWeNJLzqcWvS",
        "outputId": "f3ec8945-7a0c-4444-9271-3a43a4f17b7b",
        "colab": {
          "base_uri": "https://localhost:8080/",
          "height": 34
        }
      },
      "source": [
        "# XXX\n",
        "# TODO: Test its accuracy on the training set using the accuracy_score method.\n",
        "# XXX\n",
        "\n",
        "# -------------------------------\n",
        "# ADD CODE HERE\n",
        "# Requires a print() statement\n",
        "y_train_predicted= rf.predict(x_train)\n",
        "rounded = np.where(y_train_predicted<0.5, 0, 1)\n",
        "train_acc_rf= accuracy_score(y_train, rounded)*100\n",
        "print(\"The Accuracy: %f\" % train_acc_rf)\n",
        "# -------------------------------"
      ],
      "execution_count": 63,
      "outputs": [
        {
          "output_type": "stream",
          "text": [
            "The Accuracy: 100.000000\n"
          ],
          "name": "stdout"
        }
      ]
    },
    {
      "cell_type": "code",
      "metadata": {
        "colab_type": "code",
        "id": "wsMXeLyncWvU",
        "outputId": "1b579e6c-c3d8-457c-bc04-a74b39738e38",
        "colab": {
          "base_uri": "https://localhost:8080/",
          "height": 34
        }
      },
      "source": [
        "# XXX\n",
        "# TODO: Test its accuracy on the test set using the accuracy_score method.\n",
        "# XXX\n",
        "\n",
        "# -------------------------------\n",
        "# ADD CODE HERE\n",
        "y_test_predicted= rf.predict(x_test)\n",
        "rounded = np.where(y_test_predicted<0.5, 0, 1)\n",
        "test_acc_rf= accuracy_score(y_test,rounded)*100\n",
        "print(\"The Accuracy: %f\" % test_acc_rf)\n",
        "# Requires a print() statement\n",
        "# -------------------------------"
      ],
      "execution_count": 64,
      "outputs": [
        {
          "output_type": "stream",
          "text": [
            "The Accuracy: 98.007449\n"
          ],
          "name": "stdout"
        }
      ]
    },
    {
      "cell_type": "markdown",
      "metadata": {
        "colab_type": "text",
        "id": "uEkwb0M3cWvW"
      },
      "source": [
        "## Q3.3.1 Feature Importance"
      ]
    },
    {
      "cell_type": "code",
      "metadata": {
        "colab_type": "code",
        "id": "YmjevLlPcWvW",
        "outputId": "8bcefead-b93e-4d8e-9b63-fadd9776ee6c",
        "colab": {
          "base_uri": "https://localhost:8080/",
          "height": 51
        }
      },
      "source": [
        "# XXX\n",
        "# TODO: Determine the feature importance as evaluated by the Random Forest Classifier.\n",
        "# XXX\n",
        "\n",
        "# -------------------------------\n",
        "# ADD CODE HERE\n",
        "# Requires a print() statement\n",
        "rf_feat= rf.feature_importances_\n",
        "print(rf_feat)\n",
        "# -------------------------------"
      ],
      "execution_count": 65,
      "outputs": [
        {
          "output_type": "stream",
          "text": [
            "[0.2229389  0.04576524 0.31748998 0.19307467 0.07611149 0.04671938\n",
            " 0.05356464 0.0443357 ]\n"
          ],
          "name": "stdout"
        }
      ]
    },
    {
      "cell_type": "code",
      "metadata": {
        "colab_type": "code",
        "id": "8XcRI7kUcWvY",
        "outputId": "957bfb1c-bd40-4e37-ef19-5da133e5641b",
        "colab": {
          "base_uri": "https://localhost:8080/",
          "height": 170
        }
      },
      "source": [
        "# XXX\n",
        "# TODO: Sort them in the descending order and print the feature numbers[0 to ...].\n",
        "#       Hint: There is a direct function available in sklearn to achieve this. Also checkout argsort() function in Python.\n",
        "# XXX\n",
        "\n",
        "# -------------------------------\n",
        "# ADD CODE HERE\n",
        "# Requires a print() statement\n",
        "\n",
        "indices = np.argsort(rf_feat)[::-1]\n",
        "\n",
        "# Print the feature ranking\n",
        "print(\"Feature ranking:\")\n",
        "\n",
        "for f in range(x_train.shape[1]):\n",
        "    print(\"feature %d (%f)\" % (indices[f], rf_feat[indices[f]]))\n",
        "# -------------------------------"
      ],
      "execution_count": 66,
      "outputs": [
        {
          "output_type": "stream",
          "text": [
            "Feature ranking:\n",
            "feature 2 (0.317490)\n",
            "feature 0 (0.222939)\n",
            "feature 3 (0.193075)\n",
            "feature 4 (0.076111)\n",
            "feature 6 (0.053565)\n",
            "feature 5 (0.046719)\n",
            "feature 1 (0.045765)\n",
            "feature 7 (0.044336)\n"
          ],
          "name": "stdout"
        }
      ]
    },
    {
      "cell_type": "markdown",
      "metadata": {
        "colab_type": "text",
        "id": "1AlCc_E3cWva"
      },
      "source": [
        "## Q3.3.2 Hyper-parameter Tuning"
      ]
    },
    {
      "cell_type": "code",
      "metadata": {
        "colab_type": "code",
        "id": "y3fjpmWLcWvb",
        "outputId": "5da45edc-b93b-4cb7-fdf8-d9043127a012",
        "colab": {
          "base_uri": "https://localhost:8080/",
          "height": 357
        }
      },
      "source": [
        "# XXX\n",
        "# TODO: Tune the hyper-parameters 'n_estimators' and 'max_depth'.\n",
        "# 'n_estimators': [4, 16, 256]\n",
        "# 'max_depth': [2, 8, 16]\n",
        "# XXX\n",
        "\n",
        "# -------------------------------\n",
        "# ADD CODE HERE\n",
        "rf_params = {'n_estimators': [ 4, 16, 256 ], 'max_depth': [2, 8, 16]}\n",
        "tuned_rf = RandomForestClassifier()\n",
        "new_model = GridSearchCV(tuned_rf, rf_params)\n",
        "new_model.fit(x_train, y_train)\n",
        "# -------------------------------"
      ],
      "execution_count": 67,
      "outputs": [
        {
          "output_type": "execute_result",
          "data": {
            "text/plain": [
              "GridSearchCV(cv=None, error_score=nan,\n",
              "             estimator=RandomForestClassifier(bootstrap=True, ccp_alpha=0.0,\n",
              "                                              class_weight=None,\n",
              "                                              criterion='gini', max_depth=None,\n",
              "                                              max_features='auto',\n",
              "                                              max_leaf_nodes=None,\n",
              "                                              max_samples=None,\n",
              "                                              min_impurity_decrease=0.0,\n",
              "                                              min_impurity_split=None,\n",
              "                                              min_samples_leaf=1,\n",
              "                                              min_samples_split=2,\n",
              "                                              min_weight_fraction_leaf=0.0,\n",
              "                                              n_estimators=100, n_jobs=None,\n",
              "                                              oob_score=False,\n",
              "                                              random_state=None, verbose=0,\n",
              "                                              warm_start=False),\n",
              "             iid='deprecated', n_jobs=None,\n",
              "             param_grid={'max_depth': [2, 8, 16], 'n_estimators': [4, 16, 256]},\n",
              "             pre_dispatch='2*n_jobs', refit=True, return_train_score=False,\n",
              "             scoring=None, verbose=0)"
            ]
          },
          "metadata": {
            "tags": []
          },
          "execution_count": 67
        }
      ]
    },
    {
      "cell_type": "code",
      "metadata": {
        "colab_type": "code",
        "id": "y0OaHSCRcWvc",
        "outputId": "95d42149-a2c9-4499-ff05-053391098853",
        "colab": {
          "base_uri": "https://localhost:8080/",
          "height": 34
        }
      },
      "source": [
        "# XXX\n",
        "# TODO: Get the best params, using .best_params_\n",
        "# XXX\n",
        "\n",
        "# -------------------------------\n",
        "# ADD CODE HERE\n",
        "# Requires a print() statement\n",
        "best_param = new_model.best_params_\n",
        "print(\"Best parameter after CV:\" +str(best_param))\n",
        "# -------------------------------"
      ],
      "execution_count": 68,
      "outputs": [
        {
          "output_type": "stream",
          "text": [
            "Best parameter after CV:{'max_depth': 16, 'n_estimators': 256}\n"
          ],
          "name": "stdout"
        }
      ]
    },
    {
      "cell_type": "code",
      "metadata": {
        "colab_type": "code",
        "id": "eyXkkZr9cWve",
        "outputId": "e325505b-3c21-4b83-a521-fe6f6c554cdb",
        "colab": {
          "base_uri": "https://localhost:8080/",
          "height": 34
        }
      },
      "source": [
        "# XXX\n",
        "# TODO: Get the best score, using .best_score_.\n",
        "# XXX\n",
        "\n",
        "# -------------------------------\n",
        "# ADD CODE HERE\n",
        "# Requires a print() statement\n",
        "best_score = new_model.best_score_\n",
        "print(\"The best socre is: \" + str(best_score))\n",
        "# -------------------------------"
      ],
      "execution_count": 69,
      "outputs": [
        {
          "output_type": "stream",
          "text": [
            "The best socre is: 0.9799646039126856\n"
          ],
          "name": "stdout"
        }
      ]
    },
    {
      "cell_type": "markdown",
      "metadata": {
        "colab_type": "text",
        "id": "BNeOPWIpcWvg"
      },
      "source": [
        "# Q3.4 Support Vector Machine"
      ]
    },
    {
      "cell_type": "markdown",
      "metadata": {
        "colab_type": "text",
        "id": "CN3Wkw7zcWvh"
      },
      "source": [
        "## Q3.4.1 Pre-process"
      ]
    },
    {
      "cell_type": "code",
      "metadata": {
        "colab_type": "code",
        "id": "9msZXyImcWvh",
        "colab": {}
      },
      "source": [
        "# XXX\n",
        "# TODO: Pre-process the data to standardize it, otherwise the grid search will take much longer.\n",
        "# XXX\n",
        "\n",
        "# -------------------------------\n",
        "# ADD CODE HERE\n",
        "#x_train_norm = normalize(x_train) #standard scaler?\n",
        "#x_test_norm = normalize(x_test)\n",
        "\n",
        "x_train_norm = StandardScaler().fit_transform(x_train) \n",
        "x_test_norm = StandardScaler().fit_transform(x_test)\n",
        "# -------------------------------"
      ],
      "execution_count": 0,
      "outputs": []
    },
    {
      "cell_type": "markdown",
      "metadata": {
        "colab_type": "text",
        "id": "pqz1htxM9rLO"
      },
      "source": [
        "## Q3.4.2 Classification"
      ]
    },
    {
      "cell_type": "code",
      "metadata": {
        "colab_type": "code",
        "id": "g_nrOJdIcWvj",
        "outputId": "648b5fdf-cfa3-4fc0-fbe8-7f3d3cb8bbfc",
        "colab": {
          "base_uri": "https://localhost:8080/",
          "height": 85
        }
      },
      "source": [
        "# XXX\n",
        "# TODO: Create a SVC classifier and train it.\n",
        "# XXX\n",
        "\n",
        "# -------------------------------\n",
        "# ADD CODE HERE\n",
        "svc = SVC() \n",
        "svc.fit(x_train_norm, y_train)\n",
        "\n",
        "# -------------------------------"
      ],
      "execution_count": 71,
      "outputs": [
        {
          "output_type": "execute_result",
          "data": {
            "text/plain": [
              "SVC(C=1.0, break_ties=False, cache_size=200, class_weight=None, coef0=0.0,\n",
              "    decision_function_shape='ovr', degree=3, gamma='scale', kernel='rbf',\n",
              "    max_iter=-1, probability=False, random_state=None, shrinking=True,\n",
              "    tol=0.001, verbose=False)"
            ]
          },
          "metadata": {
            "tags": []
          },
          "execution_count": 71
        }
      ]
    },
    {
      "cell_type": "code",
      "metadata": {
        "colab_type": "code",
        "id": "U40EOPEecWvl",
        "outputId": "a6930ab0-9b90-4f65-e017-331253c9a2ce",
        "colab": {
          "base_uri": "https://localhost:8080/",
          "height": 34
        }
      },
      "source": [
        "# XXX\n",
        "# TODO: Test its accuracy on the training set using the accuracy_score method.\n",
        "# XXX\n",
        "\n",
        "# -------------------------------\n",
        "# ADD CODE HERE\n",
        "# Requires a print() statement\n",
        "ytrain_pred_svc = svc.predict(x_train_norm)\n",
        "rounded = np.where(ytrain_pred_svc<0.5, 0, 1)\n",
        "train_acc_svc = accuracy_score(y_train,rounded)*100\n",
        "print(\"The Accuracy: %f\" % train_acc_svc)\n",
        "# -------------------------------"
      ],
      "execution_count": 72,
      "outputs": [
        {
          "output_type": "stream",
          "text": [
            "The Accuracy: 98.020434\n"
          ],
          "name": "stdout"
        }
      ]
    },
    {
      "cell_type": "code",
      "metadata": {
        "colab_type": "code",
        "id": "x_jidMDvcWvm",
        "outputId": "c905c5ef-8b32-4711-ea28-f35da07d1d67",
        "colab": {
          "base_uri": "https://localhost:8080/",
          "height": 34
        }
      },
      "source": [
        "# XXX\n",
        "# TODO: Test its accuracy on the test set using the accuracy_score method.\n",
        "# XXX\n",
        "\n",
        "# -------------------------------\n",
        "# ADD CODE HERE\n",
        "# Requires a print() statement\n",
        "ytest_pred_svc = svc.predict(x_test_norm)\n",
        "rounded = np.where(ytest_pred_svc<0.5, 0, 1)\n",
        "test_acc_svc = accuracy_score(y_test,rounded)*100\n",
        "print(\"The Accuracy: %f\" % test_acc_svc)\n",
        "# -------------------------------"
      ],
      "execution_count": 73,
      "outputs": [
        {
          "output_type": "stream",
          "text": [
            "The Accuracy: 97.616387\n"
          ],
          "name": "stdout"
        }
      ]
    },
    {
      "cell_type": "markdown",
      "metadata": {
        "colab_type": "text",
        "id": "89N3JURqcWvp"
      },
      "source": [
        "## Q3.4.3 Hyper-parameter Tuning"
      ]
    },
    {
      "cell_type": "code",
      "metadata": {
        "colab_type": "code",
        "id": "ufWB_j_-cWvq",
        "outputId": "d725731d-4673-4fef-de25-f855008e4a50",
        "colab": {
          "base_uri": "https://localhost:8080/",
          "height": 204
        }
      },
      "source": [
        "# XXX\n",
        "# TODO: Tune the hyper-parameters 'C' and 'kernel' (use rbf and linear).\n",
        "# 'kernel':('linear', 'rbf') \n",
        "# 'C':[0.01, 0.1, 1.0]\n",
        "# XXX\n",
        "\n",
        "# -------------------------------\n",
        "# ADD CODE HERE\n",
        "svc_params = {'C': [0.01, 0.1, 1.0], 'kernel': ['linear', 'rbf']}\n",
        "tuned_svc = SVC(gamma='auto')\n",
        "new_svc = GridSearchCV(tuned_svc, svc_params, n_jobs = -1, return_train_score=True)\n",
        "new_svc.fit(x_train_norm, y_train)\n",
        "# -------------------------------"
      ],
      "execution_count": 74,
      "outputs": [
        {
          "output_type": "execute_result",
          "data": {
            "text/plain": [
              "GridSearchCV(cv=None, error_score=nan,\n",
              "             estimator=SVC(C=1.0, break_ties=False, cache_size=200,\n",
              "                           class_weight=None, coef0=0.0,\n",
              "                           decision_function_shape='ovr', degree=3,\n",
              "                           gamma='auto', kernel='rbf', max_iter=-1,\n",
              "                           probability=False, random_state=None, shrinking=True,\n",
              "                           tol=0.001, verbose=False),\n",
              "             iid='deprecated', n_jobs=-1,\n",
              "             param_grid={'C': [0.01, 0.1, 1.0], 'kernel': ['linear', 'rbf']},\n",
              "             pre_dispatch='2*n_jobs', refit=True, return_train_score=True,\n",
              "             scoring=None, verbose=0)"
            ]
          },
          "metadata": {
            "tags": []
          },
          "execution_count": 74
        }
      ]
    },
    {
      "cell_type": "code",
      "metadata": {
        "colab_type": "code",
        "id": "dYsFkceBcWvu",
        "outputId": "833b26bf-7f74-45bc-f435-d4a14c183b97",
        "colab": {
          "base_uri": "https://localhost:8080/",
          "height": 34
        }
      },
      "source": [
        "# XXX\n",
        "# TODO: Get the best score, using .best_score_.\n",
        "# Note: Set n_jobs=-1 and return_train_score=True\n",
        "# XXX\n",
        "\n",
        "# -------------------------------\n",
        "# ADD CODE HERE\n",
        "# Requires a print() statement\n",
        "print(\"The best score is:\" +str(new_svc.best_score_))\n",
        "# -------------------------------"
      ],
      "execution_count": 75,
      "outputs": [
        {
          "output_type": "stream",
          "text": [
            "The best score is:0.9798849547513114\n"
          ],
          "name": "stdout"
        }
      ]
    },
    {
      "cell_type": "code",
      "metadata": {
        "colab_type": "code",
        "id": "_i1BM7zQcWvw",
        "outputId": "959348ea-784d-4a1a-c59c-95ec8e09f6ce",
        "colab": {
          "base_uri": "https://localhost:8080/",
          "height": 85
        }
      },
      "source": [
        "# XXX\n",
        "# TODO: Calculate the training and test set accuracy values after hyperparameter tuning and standardization. \n",
        "# XXX\n",
        "\n",
        "# -------------------------------\n",
        "# ADD CODE HERE\n",
        "C= (new_svc.best_params_.get('C'))\n",
        "kernel= (new_svc.best_params_.get('kernel'))\n",
        "opt_svc_model = SVC(C=C,kernel=kernel)\n",
        "opt_svc_model.fit(x_train_norm,y_train)\n",
        "# -------------------------------"
      ],
      "execution_count": 76,
      "outputs": [
        {
          "output_type": "execute_result",
          "data": {
            "text/plain": [
              "SVC(C=1.0, break_ties=False, cache_size=200, class_weight=None, coef0=0.0,\n",
              "    decision_function_shape='ovr', degree=3, gamma='scale', kernel='linear',\n",
              "    max_iter=-1, probability=False, random_state=None, shrinking=True,\n",
              "    tol=0.001, verbose=False)"
            ]
          },
          "metadata": {
            "tags": []
          },
          "execution_count": 76
        }
      ]
    },
    {
      "cell_type": "code",
      "metadata": {
        "colab_type": "code",
        "id": "_UzWph6Y9rLs",
        "outputId": "2a6c3d2c-1b41-4d90-f0d5-f7000172fd80",
        "colab": {
          "base_uri": "https://localhost:8080/",
          "height": 34
        }
      },
      "source": [
        "# XXX\n",
        "# TODO: Test its accuracy (on the training set) using the accuracy_score method.\n",
        "# XXX\n",
        "\n",
        "# -------------------------------\n",
        "# ADD CODE HERE\n",
        "# Requires a print() statement\n",
        "y_pred_train_svc_tune = opt_svc_model.predict(x_train_norm)\n",
        "rounded = np.where(y_pred_train_svc_tune<0.5, 0, 1)\n",
        "train_acc_tune_svc = accuracy_score(y_train, rounded)*100\n",
        "print(\"The Accuracy: %f\" % train_acc_tune_svc)\n",
        "# -------------------------------"
      ],
      "execution_count": 77,
      "outputs": [
        {
          "output_type": "stream",
          "text": [
            "The Accuracy: 97.972542\n"
          ],
          "name": "stdout"
        }
      ]
    },
    {
      "cell_type": "code",
      "metadata": {
        "colab_type": "code",
        "id": "gSQXwaDn9rLw",
        "outputId": "c4c14c21-b3b5-463d-a8f8-c7dc7510939a",
        "colab": {
          "base_uri": "https://localhost:8080/",
          "height": 34
        }
      },
      "source": [
        "# XXX\n",
        "# TODO: Test its accuracy (on the test set) using the accuracy_score method.\n",
        "# XXX\n",
        "\n",
        "# -------------------------------\n",
        "# ADD CODE HERE\n",
        "# Requires a print() statement\n",
        "y_pred_test_svc_tune = opt_svc_model.predict(x_test_norm)\n",
        "rounded = np.where(y_pred_test_svc_tune<0.5, 0, 1)\n",
        "test_acc_tune_svc = accuracy_score(y_test, rounded)*100\n",
        "print(\"The Accuracy: %f\" % test_acc_tune_svc)\n",
        "# -------------------------------"
      ],
      "execution_count": 78,
      "outputs": [
        {
          "output_type": "stream",
          "text": [
            "The Accuracy: 97.783985\n"
          ],
          "name": "stdout"
        }
      ]
    },
    {
      "cell_type": "markdown",
      "metadata": {
        "colab_type": "text",
        "id": "Io4IVbup9rL1"
      },
      "source": [
        "## Q3.4.4 Cross Validation Results "
      ]
    },
    {
      "cell_type": "code",
      "metadata": {
        "colab_type": "code",
        "id": "1kVfAqsbcWv1",
        "outputId": "5f984880-0f85-4144-e2d8-f78d42fc7d74",
        "colab": {
          "base_uri": "https://localhost:8080/",
          "height": 34
        }
      },
      "source": [
        "# XXX\n",
        "# TODO: Get the rank test score for all hyperparameter values that you obtained in Q3.4.3. The \n",
        "# GridSearchCV class holds a  ‘cv_results_’ dictionary that should help you report these metrics easily.\n",
        "# XXX\n",
        "\n",
        "# -------------------------------\n",
        "# ADD CODE HERE\n",
        "# Requires a print() statement\n",
        "rank =  new_svc.cv_results_['rank_test_score']\n",
        "print(\"Rank Test Score:\", rank)\n",
        "# -------------------------------"
      ],
      "execution_count": 79,
      "outputs": [
        {
          "output_type": "stream",
          "text": [
            "Rank Test Score: [5 6 3 4 1 2]\n"
          ],
          "name": "stdout"
        }
      ]
    },
    {
      "cell_type": "code",
      "metadata": {
        "colab_type": "code",
        "id": "2UrUu1DXcWv2",
        "outputId": "f74fa605-2e20-441f-8185-8d8a26b193e1",
        "colab": {
          "base_uri": "https://localhost:8080/",
          "height": 34
        }
      },
      "source": [
        "# XXX\n",
        "# TODO: Get the mean testing score for all of hyperparameter values that you obtained in Q3.4.3. The \n",
        "# GridSearchCV class holds a  ‘cv_results_’ dictionary that should help you report these metrics easily.\n",
        "# XXX\n",
        "# -------------------------------\n",
        "# ADD CODE HERE\n",
        "# Requires a print() statement\n",
        "mean_test = new_svc.cv_results_['mean_test_score']\n",
        "print(\"Mean Test Score:\", mean_test)\n",
        "# -------------------------------"
      ],
      "execution_count": 80,
      "outputs": [
        {
          "output_type": "stream",
          "text": [
            "Mean Test Score: [0.97597358 0.9699073  0.97876735 0.97788907 0.97988495 0.97940588]\n"
          ],
          "name": "stdout"
        }
      ]
    },
    {
      "cell_type": "markdown",
      "metadata": {
        "colab_type": "text",
        "id": "c2qDYMjgcWv5"
      },
      "source": [
        "# Q3.5 PCA"
      ]
    },
    {
      "cell_type": "code",
      "metadata": {
        "colab_type": "code",
        "id": "-C9BuGsqcWv5",
        "outputId": "9cbb6561-acbd-40bd-fa77-b90167914d87",
        "colab": {
          "base_uri": "https://localhost:8080/",
          "height": 51
        }
      },
      "source": [
        "# XXX\n",
        "# TODO: Perform dimensionality reduction of the data using PCA.\n",
        "#       Set parameters n_component to 8 and svd_solver to 'full'. Keep other parameters at their default value.\n",
        "# XXX\n",
        "\n",
        "# NOTE: Use the full x data set for this section 'x_data'\n",
        "\n",
        "# -------------------------------\n",
        "# ADD CODE HERE\n",
        "pca = PCA(n_components=8, svd_solver = 'full')\n",
        "pca.fit(x_train)\n",
        "# You should see an output here of PCA(copy=True....)\n",
        "# -------------------------------"
      ],
      "execution_count": 81,
      "outputs": [
        {
          "output_type": "execute_result",
          "data": {
            "text/plain": [
              "PCA(copy=True, iterated_power='auto', n_components=8, random_state=None,\n",
              "    svd_solver='full', tol=0.0, whiten=False)"
            ]
          },
          "metadata": {
            "tags": []
          },
          "execution_count": 81
        }
      ]
    },
    {
      "cell_type": "code",
      "metadata": {
        "colab_type": "code",
        "id": "CZCJCtGhcWv7",
        "outputId": "746e80d3-f071-4336-ec78-2b975c604c45",
        "colab": {
          "base_uri": "https://localhost:8080/",
          "height": 51
        }
      },
      "source": [
        "# XXX\n",
        "# TODO: Get percentage of variance explained by each of the selected components\n",
        "# XXX\n",
        "\n",
        "# -------------------------------\n",
        "# ADD CODE HERE\n",
        "# Requires a print() statement\n",
        "print(pca.explained_variance_ratio_)\n",
        "# -------------------------------"
      ],
      "execution_count": 82,
      "outputs": [
        {
          "output_type": "stream",
          "text": [
            "[8.73068649e-01 7.70947157e-02 4.04656131e-02 5.95488462e-03\n",
            " 2.42361971e-03 9.50698595e-04 3.90491241e-05 2.76982242e-06]\n"
          ],
          "name": "stdout"
        }
      ]
    },
    {
      "cell_type": "code",
      "metadata": {
        "colab_type": "code",
        "id": "y9nPDDyTcWv8",
        "outputId": "4cb202fa-a204-4e16-cd99-7e4cbebdd795",
        "colab": {
          "base_uri": "https://localhost:8080/",
          "height": 51
        }
      },
      "source": [
        "# XXX\n",
        "# TODO: Get the singular values corresponding to each of the selected components.\n",
        "# XXX\n",
        "\n",
        "# -------------------------------\n",
        "# ADD CODE HERE\n",
        "# Requires a print() statement\n",
        "print(pca.singular_values_)\n",
        "# -------------------------------"
      ],
      "execution_count": 83,
      "outputs": [
        {
          "output_type": "stream",
          "text": [
            "[12093.64259684  3593.72829121  2603.6103879    998.77947434\n",
            "   637.18445368   399.07485002    80.87952298    21.54065458]\n"
          ],
          "name": "stdout"
        }
      ]
    }
  ]
}